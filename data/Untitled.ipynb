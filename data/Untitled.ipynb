{
 "cells": [
  {
   "cell_type": "code",
   "execution_count": 40,
   "id": "d5d3667d-0c7c-46dc-a04a-33ca05f73473",
   "metadata": {},
   "outputs": [],
   "source": [
    "import pandas as pd\n",
    "import csv\n",
    "\n",
    "db = pd.read_csv(\"screening_hits.tsv\", sep=\"\\t\")\n",
    "df = pd.read_csv(\"screening.tsv\", sep=\"\\t\")\n",
    "\n",
    "human = []\n",
    "with open(\"/Users/mduranfrigola/Desktop/human_proteome.txt\", \"r\") as f:\n",
    "    reader = csv.reader(f)\n",
    "    for r in reader:\n",
    "        human += [r[0]]\n",
    "        \n",
    "hek = []\n",
    "with open(\"/Users/mduranfrigola/Desktop/hek293t_core.txt\", \"r\") as f:\n",
    "    reader = csv.reader(f)\n",
    "    for r in reader:\n",
    "        hek += [r[0]]"
   ]
  },
  {
   "cell_type": "code",
   "execution_count": 47,
   "id": "502e42af-da3a-42ea-8c39-5462f3ab9f43",
   "metadata": {},
   "outputs": [
    {
     "data": {
      "text/plain": [
       "0.1298624754420432"
      ]
     },
     "execution_count": 47,
     "metadata": {},
     "output_type": "execute_result"
    }
   ],
   "source": [
    "len(my_prots)/len(human)"
   ]
  },
  {
   "cell_type": "code",
   "execution_count": 49,
   "id": "8ab62447-8021-4539-a76d-26d7a5096847",
   "metadata": {},
   "outputs": [
    {
     "data": {
      "text/plain": [
       "0.25931737936445665"
      ]
     },
     "execution_count": 49,
     "metadata": {},
     "output_type": "execute_result"
    }
   ],
   "source": [
    "len(my_prots)/len(hek)"
   ]
  },
  {
   "cell_type": "code",
   "execution_count": 14,
   "id": "2e9cadea-4324-4e1e-8176-b4e12fe2738b",
   "metadata": {},
   "outputs": [],
   "source": [
    "my_prots = set(db[\"Accession\"])"
   ]
  },
  {
   "cell_type": "code",
   "execution_count": 12,
   "id": "f938069f-7eff-4435-b02d-8f7760f4e89d",
   "metadata": {},
   "outputs": [],
   "source": [
    "pharos = pd.read_csv(\"/Users/mduranfrigola/Desktop/pharos_protein_category.txt\", sep=\"\\t\", header=None).rename(columns={0: \"Accession\", 1: \"Category\"})"
   ]
  },
  {
   "cell_type": "code",
   "execution_count": 19,
   "id": "86d07a96-0795-465f-9572-7b5670e36098",
   "metadata": {},
   "outputs": [
    {
     "data": {
      "text/plain": [
       "2286"
      ]
     },
     "execution_count": 19,
     "metadata": {},
     "output_type": "execute_result"
    }
   ],
   "source": [
    "len(my_prots.intersection(pharos[(pharos[\"Category\"] != \"Tclin\") & (pharos[\"Category\"] != \"Tchem\")][\"Accession\"]))"
   ]
  },
  {
   "cell_type": "code",
   "execution_count": 20,
   "id": "44d9711c-dc3f-4987-b83e-e0aa19b6e9fc",
   "metadata": {},
   "outputs": [
    {
     "data": {
      "text/plain": [
       "2644"
      ]
     },
     "execution_count": 20,
     "metadata": {},
     "output_type": "execute_result"
    }
   ],
   "source": [
    "len(my_prots)"
   ]
  },
  {
   "cell_type": "code",
   "execution_count": 24,
   "id": "2f2a7825-aabb-4c0c-b629-73c3345a4dbb",
   "metadata": {},
   "outputs": [],
   "source": [
    "a = list(pharos[pharos[\"Category\"] == \"Tclin\"][\"Accession\"])\n",
    "b = list(pharos[pharos[\"Category\"] == \"Tchem\"][\"Accession\"])"
   ]
  },
  {
   "cell_type": "code",
   "execution_count": 25,
   "id": "add0b1d0-d764-4e26-9508-afcc80b84741",
   "metadata": {},
   "outputs": [
    {
     "data": {
      "text/plain": [
       "613"
      ]
     },
     "execution_count": 25,
     "metadata": {},
     "output_type": "execute_result"
    }
   ],
   "source": [
    "len(a)"
   ]
  },
  {
   "cell_type": "code",
   "execution_count": 26,
   "id": "dfab249e-1615-4832-9878-e2c9a6372fbc",
   "metadata": {},
   "outputs": [
    {
     "data": {
      "text/plain": [
       "1593"
      ]
     },
     "execution_count": 26,
     "metadata": {},
     "output_type": "execute_result"
    }
   ],
   "source": [
    "len(b)"
   ]
  },
  {
   "cell_type": "code",
   "execution_count": 51,
   "id": "b71f0f96-96ff-4d0c-85ae-1a27d604cc1c",
   "metadata": {},
   "outputs": [
    {
     "data": {
      "text/plain": [
       "2287"
      ]
     },
     "execution_count": 51,
     "metadata": {},
     "output_type": "execute_result"
    }
   ],
   "source": [
    "len(my_prots.difference(set(a).union(b)))"
   ]
  },
  {
   "cell_type": "code",
   "execution_count": 31,
   "id": "adc860eb-bd88-4ffb-88fb-6fd3476f804c",
   "metadata": {},
   "outputs": [
    {
     "data": {
      "text/plain": [
       "2644"
      ]
     },
     "execution_count": 31,
     "metadata": {},
     "output_type": "execute_result"
    }
   ],
   "source": [
    "len(my_prots)"
   ]
  },
  {
   "cell_type": "code",
   "execution_count": 32,
   "id": "4dbf8124-90f8-47eb-b4f2-e904a55635ec",
   "metadata": {},
   "outputs": [
    {
     "data": {
      "text/plain": [
       "0.8649773071104387"
      ]
     },
     "execution_count": 32,
     "metadata": {},
     "output_type": "execute_result"
    }
   ],
   "source": [
    "2287/2644"
   ]
  },
  {
   "cell_type": "code",
   "execution_count": null,
   "id": "8d469f5c-d548-4988-86a1-14fbbfc223a4",
   "metadata": {},
   "outputs": [],
   "source": []
  }
 ],
 "metadata": {
  "kernelspec": {
   "display_name": "Python 3 (ipykernel)",
   "language": "python",
   "name": "python3"
  },
  "language_info": {
   "codemirror_mode": {
    "name": "ipython",
    "version": 3
   },
   "file_extension": ".py",
   "mimetype": "text/x-python",
   "name": "python",
   "nbconvert_exporter": "python",
   "pygments_lexer": "ipython3",
   "version": "3.10.9"
  }
 },
 "nbformat": 4,
 "nbformat_minor": 5
}
