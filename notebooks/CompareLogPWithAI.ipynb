{
 "cells": [
  {
   "cell_type": "markdown",
   "metadata": {},
   "source": [
    "# Analyze models and compare them to baseline models based on simple physicochemistry"
   ]
  },
  {
   "cell_type": "code",
   "execution_count": 1,
   "metadata": {},
   "outputs": [],
   "source": [
    "import stylia\n",
    "import collections\n",
    "import pandas as pd\n",
    "import os\n",
    "import matplotlib.pyplot as plt\n",
    "import numpy as np\n",
    "from scipy.stats import pearsonr, spearmanr\n",
    "from sklearn.metrics import roc_curve, auc, roc_auc_score\n",
    "from sklearn.linear_model import LinearRegression as Regression"
   ]
  },
  {
   "cell_type": "code",
   "execution_count": 115,
   "metadata": {},
   "outputs": [],
   "source": [
    "physchem = pd.read_csv(\"../results/complex_vs_simple/physchem.csv\")"
   ]
  },
  {
   "cell_type": "code",
   "execution_count": 2,
   "metadata": {},
   "outputs": [],
   "source": [
    "complex_vs_simple_dir = os.path.join(\"..\", \"results\", \"complex_vs_simple\")\n",
    "\n",
    "hits = pd.read_csv(\"../data/screening_hits.tsv\", sep=\"\\t\")\n",
    "fid_prom = collections.defaultdict(int)\n",
    "for r in list(hits[\"FragID\"]):\n",
    "    fid_prom[r] += 1\n",
    "\n",
    "aucs = []\n",
    "R = None\n",
    "for l in os.listdir(complex_vs_simple_dir):\n",
    "    if \"_\" not in l:\n",
    "        continue\n",
    "    if \"promiscuity\" not in l:\n",
    "        continue\n",
    "    col = l.rstrip(\".csv\")\n",
    "    d = pd.read_csv(os.path.join(complex_vs_simple_dir, l))\n",
    "    prom = []\n",
    "    for fid in list(d[\"fid\"]):\n",
    "        if fid in fid_prom:\n",
    "            prom += [fid_prom[fid]]\n",
    "        else:\n",
    "            prom += [0]\n",
    "    d[\"prom\"] = prom\n",
    "    if R is None:\n",
    "        R = [\n",
    "            list(d[\"fid\"]),\n",
    "            list(d[\"logp\"]),\n",
    "            list(d[\"csp2\"]),\n",
    "            list(d[\"prom\"]),\n",
    "            list(d[\"y\"]),\n",
    "            list(d[\"y_hat\"])\n",
    "        ]\n",
    "        columns = [\n",
    "            \"fid\",\n",
    "            \"logp\",\n",
    "            \"csp2\",\n",
    "            \"prom\",\n",
    "            col,\n",
    "            col+\"_hat\"\n",
    "        ]\n",
    "    else:\n",
    "        R += [list(d[\"y\"])]\n",
    "        R += [list(d[\"y_hat\"])]\n",
    "        columns += [col, col+\"_hat\"]\n",
    "    aucs += [roc_auc_score(d[\"y\"], d[\"y_hat\"])]\n",
    "\n",
    "def transpose(matrix):\n",
    "    return [list(row) for row in zip(*matrix)]\n",
    "\n",
    "d = pd.DataFrame(transpose(R), columns=columns)\n",
    "X = np.array(d[[x for x in list(d.columns) if x.startswith(\"promiscuity_\") and x.endswith(\"_hat\")]])\n",
    "\n",
    "def regression_prediction(X, y):\n",
    "    X = np.array(X)\n",
    "    y = np.array(y)\n",
    "    idxs = [i for i in range(X.shape[0])]\n",
    "    y_hat = []\n",
    "    for idx in idxs:\n",
    "        idxs_train = [i for i in idxs if i != idx]\n",
    "        idxs_test = [idx]\n",
    "        lr = Regression()\n",
    "        lr.fit(X[idxs_train], y[idxs_train])\n",
    "        y_hat += list(lr.predict(X[idxs_test]))\n",
    "    return y_hat\n",
    "\n",
    "d[\"prom_reg_hat\"] = regression_prediction(X, d[\"prom\"])\n",
    "\n",
    "weights = np.clip(aucs, 0.5, 1)\n",
    "weights = weights / np.sum(weights)\n",
    "d[\"prom_avg_hat\"] = np.average(X, axis=1, weights=weights)\n",
    "d[\"prom_sum_hat\"] = np.sum(X, axis=1)\n",
    "\n",
    "sig = pd.read_csv(\"../data/fragment_signatures.csv\")\n",
    "\n",
    "d = pd.concat([d, sig[[c for c in list(sig.columns) if c.startswith(\"signature_\")]]], axis=1)"
   ]
  },
  {
   "cell_type": "code",
   "execution_count": 118,
   "metadata": {},
   "outputs": [
    {
     "data": {
      "text/html": [
       "<div>\n",
       "<style scoped>\n",
       "    .dataframe tbody tr th:only-of-type {\n",
       "        vertical-align: middle;\n",
       "    }\n",
       "\n",
       "    .dataframe tbody tr th {\n",
       "        vertical-align: top;\n",
       "    }\n",
       "\n",
       "    .dataframe thead th {\n",
       "        text-align: right;\n",
       "    }\n",
       "</style>\n",
       "<table border=\"1\" class=\"dataframe\">\n",
       "  <thead>\n",
       "    <tr style=\"text-align: right;\">\n",
       "      <th></th>\n",
       "      <th>fid</th>\n",
       "      <th>logp</th>\n",
       "      <th>csp2</th>\n",
       "      <th>prom</th>\n",
       "      <th>promiscuity_fxp2_pxf0</th>\n",
       "      <th>promiscuity_fxp2_pxf0_hat</th>\n",
       "      <th>promiscuity_fxp2_pxf1</th>\n",
       "      <th>promiscuity_fxp2_pxf1_hat</th>\n",
       "      <th>promiscuity_fxp2_pxf2</th>\n",
       "      <th>promiscuity_fxp2_pxf2_hat</th>\n",
       "      <th>...</th>\n",
       "      <th>signature_0</th>\n",
       "      <th>signature_1</th>\n",
       "      <th>signature_2</th>\n",
       "      <th>signature_3</th>\n",
       "      <th>signature_4</th>\n",
       "      <th>signature_5</th>\n",
       "      <th>signature_6</th>\n",
       "      <th>signature_7</th>\n",
       "      <th>signature_8</th>\n",
       "      <th>signature_9</th>\n",
       "    </tr>\n",
       "  </thead>\n",
       "  <tbody>\n",
       "    <tr>\n",
       "      <th>0</th>\n",
       "      <td>C001</td>\n",
       "      <td>3.46930</td>\n",
       "      <td>7</td>\n",
       "      <td>91</td>\n",
       "      <td>1</td>\n",
       "      <td>0.936446</td>\n",
       "      <td>0</td>\n",
       "      <td>0.905581</td>\n",
       "      <td>0</td>\n",
       "      <td>0.477953</td>\n",
       "      <td>...</td>\n",
       "      <td>0</td>\n",
       "      <td>0</td>\n",
       "      <td>0</td>\n",
       "      <td>0</td>\n",
       "      <td>0</td>\n",
       "      <td>0</td>\n",
       "      <td>0</td>\n",
       "      <td>0</td>\n",
       "      <td>0</td>\n",
       "      <td>0</td>\n",
       "    </tr>\n",
       "    <tr>\n",
       "      <th>1</th>\n",
       "      <td>C002</td>\n",
       "      <td>2.12232</td>\n",
       "      <td>10</td>\n",
       "      <td>14</td>\n",
       "      <td>0</td>\n",
       "      <td>0.621231</td>\n",
       "      <td>0</td>\n",
       "      <td>0.459718</td>\n",
       "      <td>0</td>\n",
       "      <td>0.045822</td>\n",
       "      <td>...</td>\n",
       "      <td>0</td>\n",
       "      <td>0</td>\n",
       "      <td>0</td>\n",
       "      <td>0</td>\n",
       "      <td>1</td>\n",
       "      <td>0</td>\n",
       "      <td>0</td>\n",
       "      <td>0</td>\n",
       "      <td>1</td>\n",
       "      <td>0</td>\n",
       "    </tr>\n",
       "    <tr>\n",
       "      <th>2</th>\n",
       "      <td>C003</td>\n",
       "      <td>3.17886</td>\n",
       "      <td>10</td>\n",
       "      <td>93</td>\n",
       "      <td>0</td>\n",
       "      <td>0.548159</td>\n",
       "      <td>0</td>\n",
       "      <td>0.499813</td>\n",
       "      <td>0</td>\n",
       "      <td>0.038458</td>\n",
       "      <td>...</td>\n",
       "      <td>0</td>\n",
       "      <td>0</td>\n",
       "      <td>0</td>\n",
       "      <td>0</td>\n",
       "      <td>0</td>\n",
       "      <td>0</td>\n",
       "      <td>0</td>\n",
       "      <td>0</td>\n",
       "      <td>0</td>\n",
       "      <td>0</td>\n",
       "    </tr>\n",
       "    <tr>\n",
       "      <th>3</th>\n",
       "      <td>C004</td>\n",
       "      <td>4.03440</td>\n",
       "      <td>8</td>\n",
       "      <td>288</td>\n",
       "      <td>1</td>\n",
       "      <td>0.954695</td>\n",
       "      <td>1</td>\n",
       "      <td>0.837444</td>\n",
       "      <td>0</td>\n",
       "      <td>0.509311</td>\n",
       "      <td>...</td>\n",
       "      <td>0</td>\n",
       "      <td>0</td>\n",
       "      <td>0</td>\n",
       "      <td>0</td>\n",
       "      <td>0</td>\n",
       "      <td>0</td>\n",
       "      <td>0</td>\n",
       "      <td>0</td>\n",
       "      <td>1</td>\n",
       "      <td>0</td>\n",
       "    </tr>\n",
       "    <tr>\n",
       "      <th>4</th>\n",
       "      <td>C006</td>\n",
       "      <td>2.57990</td>\n",
       "      <td>3</td>\n",
       "      <td>8</td>\n",
       "      <td>0</td>\n",
       "      <td>0.624419</td>\n",
       "      <td>0</td>\n",
       "      <td>0.256677</td>\n",
       "      <td>0</td>\n",
       "      <td>0.057379</td>\n",
       "      <td>...</td>\n",
       "      <td>0</td>\n",
       "      <td>0</td>\n",
       "      <td>0</td>\n",
       "      <td>0</td>\n",
       "      <td>0</td>\n",
       "      <td>0</td>\n",
       "      <td>0</td>\n",
       "      <td>0</td>\n",
       "      <td>0</td>\n",
       "      <td>0</td>\n",
       "    </tr>\n",
       "    <tr>\n",
       "      <th>...</th>\n",
       "      <td>...</td>\n",
       "      <td>...</td>\n",
       "      <td>...</td>\n",
       "      <td>...</td>\n",
       "      <td>...</td>\n",
       "      <td>...</td>\n",
       "      <td>...</td>\n",
       "      <td>...</td>\n",
       "      <td>...</td>\n",
       "      <td>...</td>\n",
       "      <td>...</td>\n",
       "      <td>...</td>\n",
       "      <td>...</td>\n",
       "      <td>...</td>\n",
       "      <td>...</td>\n",
       "      <td>...</td>\n",
       "      <td>...</td>\n",
       "      <td>...</td>\n",
       "      <td>...</td>\n",
       "      <td>...</td>\n",
       "      <td>...</td>\n",
       "    </tr>\n",
       "    <tr>\n",
       "      <th>402</th>\n",
       "      <td>C429</td>\n",
       "      <td>4.65142</td>\n",
       "      <td>10</td>\n",
       "      <td>277</td>\n",
       "      <td>1</td>\n",
       "      <td>0.932873</td>\n",
       "      <td>1</td>\n",
       "      <td>0.751753</td>\n",
       "      <td>1</td>\n",
       "      <td>0.248928</td>\n",
       "      <td>...</td>\n",
       "      <td>0</td>\n",
       "      <td>0</td>\n",
       "      <td>0</td>\n",
       "      <td>0</td>\n",
       "      <td>0</td>\n",
       "      <td>0</td>\n",
       "      <td>0</td>\n",
       "      <td>0</td>\n",
       "      <td>0</td>\n",
       "      <td>0</td>\n",
       "    </tr>\n",
       "    <tr>\n",
       "      <th>403</th>\n",
       "      <td>C430</td>\n",
       "      <td>2.85670</td>\n",
       "      <td>9</td>\n",
       "      <td>88</td>\n",
       "      <td>1</td>\n",
       "      <td>0.753761</td>\n",
       "      <td>0</td>\n",
       "      <td>0.372330</td>\n",
       "      <td>0</td>\n",
       "      <td>0.175206</td>\n",
       "      <td>...</td>\n",
       "      <td>0</td>\n",
       "      <td>1</td>\n",
       "      <td>0</td>\n",
       "      <td>0</td>\n",
       "      <td>0</td>\n",
       "      <td>0</td>\n",
       "      <td>0</td>\n",
       "      <td>0</td>\n",
       "      <td>0</td>\n",
       "      <td>0</td>\n",
       "    </tr>\n",
       "    <tr>\n",
       "      <th>404</th>\n",
       "      <td>C431</td>\n",
       "      <td>4.20610</td>\n",
       "      <td>9</td>\n",
       "      <td>329</td>\n",
       "      <td>1</td>\n",
       "      <td>0.926776</td>\n",
       "      <td>1</td>\n",
       "      <td>0.871716</td>\n",
       "      <td>1</td>\n",
       "      <td>0.116965</td>\n",
       "      <td>...</td>\n",
       "      <td>0</td>\n",
       "      <td>0</td>\n",
       "      <td>0</td>\n",
       "      <td>0</td>\n",
       "      <td>0</td>\n",
       "      <td>0</td>\n",
       "      <td>0</td>\n",
       "      <td>0</td>\n",
       "      <td>0</td>\n",
       "      <td>0</td>\n",
       "    </tr>\n",
       "    <tr>\n",
       "      <th>405</th>\n",
       "      <td>C432</td>\n",
       "      <td>1.35930</td>\n",
       "      <td>5</td>\n",
       "      <td>17</td>\n",
       "      <td>0</td>\n",
       "      <td>0.117118</td>\n",
       "      <td>0</td>\n",
       "      <td>0.021022</td>\n",
       "      <td>0</td>\n",
       "      <td>0.033342</td>\n",
       "      <td>...</td>\n",
       "      <td>0</td>\n",
       "      <td>0</td>\n",
       "      <td>0</td>\n",
       "      <td>0</td>\n",
       "      <td>0</td>\n",
       "      <td>0</td>\n",
       "      <td>0</td>\n",
       "      <td>0</td>\n",
       "      <td>0</td>\n",
       "      <td>0</td>\n",
       "    </tr>\n",
       "    <tr>\n",
       "      <th>406</th>\n",
       "      <td>C433</td>\n",
       "      <td>2.16180</td>\n",
       "      <td>7</td>\n",
       "      <td>154</td>\n",
       "      <td>1</td>\n",
       "      <td>0.854118</td>\n",
       "      <td>1</td>\n",
       "      <td>0.807620</td>\n",
       "      <td>0</td>\n",
       "      <td>0.036463</td>\n",
       "      <td>...</td>\n",
       "      <td>0</td>\n",
       "      <td>0</td>\n",
       "      <td>0</td>\n",
       "      <td>0</td>\n",
       "      <td>0</td>\n",
       "      <td>0</td>\n",
       "      <td>0</td>\n",
       "      <td>0</td>\n",
       "      <td>0</td>\n",
       "      <td>0</td>\n",
       "    </tr>\n",
       "  </tbody>\n",
       "</table>\n",
       "<p>407 rows × 41 columns</p>\n",
       "</div>"
      ],
      "text/plain": [
       "      fid     logp  csp2  prom  promiscuity_fxp2_pxf0  \\\n",
       "0    C001  3.46930     7    91                      1   \n",
       "1    C002  2.12232    10    14                      0   \n",
       "2    C003  3.17886    10    93                      0   \n",
       "3    C004  4.03440     8   288                      1   \n",
       "4    C006  2.57990     3     8                      0   \n",
       "..    ...      ...   ...   ...                    ...   \n",
       "402  C429  4.65142    10   277                      1   \n",
       "403  C430  2.85670     9    88                      1   \n",
       "404  C431  4.20610     9   329                      1   \n",
       "405  C432  1.35930     5    17                      0   \n",
       "406  C433  2.16180     7   154                      1   \n",
       "\n",
       "     promiscuity_fxp2_pxf0_hat  promiscuity_fxp2_pxf1  \\\n",
       "0                     0.936446                      0   \n",
       "1                     0.621231                      0   \n",
       "2                     0.548159                      0   \n",
       "3                     0.954695                      1   \n",
       "4                     0.624419                      0   \n",
       "..                         ...                    ...   \n",
       "402                   0.932873                      1   \n",
       "403                   0.753761                      0   \n",
       "404                   0.926776                      1   \n",
       "405                   0.117118                      0   \n",
       "406                   0.854118                      1   \n",
       "\n",
       "     promiscuity_fxp2_pxf1_hat  promiscuity_fxp2_pxf2  \\\n",
       "0                     0.905581                      0   \n",
       "1                     0.459718                      0   \n",
       "2                     0.499813                      0   \n",
       "3                     0.837444                      0   \n",
       "4                     0.256677                      0   \n",
       "..                         ...                    ...   \n",
       "402                   0.751753                      1   \n",
       "403                   0.372330                      0   \n",
       "404                   0.871716                      1   \n",
       "405                   0.021022                      0   \n",
       "406                   0.807620                      0   \n",
       "\n",
       "     promiscuity_fxp2_pxf2_hat  ...  signature_0  signature_1  signature_2  \\\n",
       "0                     0.477953  ...            0            0            0   \n",
       "1                     0.045822  ...            0            0            0   \n",
       "2                     0.038458  ...            0            0            0   \n",
       "3                     0.509311  ...            0            0            0   \n",
       "4                     0.057379  ...            0            0            0   \n",
       "..                         ...  ...          ...          ...          ...   \n",
       "402                   0.248928  ...            0            0            0   \n",
       "403                   0.175206  ...            0            1            0   \n",
       "404                   0.116965  ...            0            0            0   \n",
       "405                   0.033342  ...            0            0            0   \n",
       "406                   0.036463  ...            0            0            0   \n",
       "\n",
       "     signature_3  signature_4  signature_5  signature_6  signature_7  \\\n",
       "0              0            0            0            0            0   \n",
       "1              0            1            0            0            0   \n",
       "2              0            0            0            0            0   \n",
       "3              0            0            0            0            0   \n",
       "4              0            0            0            0            0   \n",
       "..           ...          ...          ...          ...          ...   \n",
       "402            0            0            0            0            0   \n",
       "403            0            0            0            0            0   \n",
       "404            0            0            0            0            0   \n",
       "405            0            0            0            0            0   \n",
       "406            0            0            0            0            0   \n",
       "\n",
       "     signature_8  signature_9  \n",
       "0              0            0  \n",
       "1              1            0  \n",
       "2              0            0  \n",
       "3              1            0  \n",
       "4              0            0  \n",
       "..           ...          ...  \n",
       "402            0            0  \n",
       "403            0            0  \n",
       "404            0            0  \n",
       "405            0            0  \n",
       "406            0            0  \n",
       "\n",
       "[407 rows x 41 columns]"
      ]
     },
     "execution_count": 118,
     "metadata": {},
     "output_type": "execute_result"
    }
   ],
   "source": [
    "d"
   ]
  },
  {
   "cell_type": "code",
   "execution_count": 119,
   "metadata": {},
   "outputs": [
    {
     "name": "stdout",
     "output_type": "stream",
     "text": [
      "signature_0 0.82\n",
      "signature_1 0.44\n",
      "signature_2 0.43\n",
      "signature_3 0.32\n",
      "signature_4 0.59\n",
      "signature_5 0.27\n",
      "signature_6 0.82\n",
      "signature_7 0.6\n",
      "signature_8 0.47\n",
      "signature_9 0.81\n"
     ]
    }
   ],
   "source": [
    "for col in list(d.columns):\n",
    "    if col.startswith(\"signature_\"):\n",
    "        y = d[col]\n",
    "        y_hat = d[\"logp\"]\n",
    "        print(col, round(roc_auc_score(y, y_hat), 2))"
   ]
  },
  {
   "cell_type": "code",
   "execution_count": 155,
   "metadata": {},
   "outputs": [
    {
     "name": "stdout",
     "output_type": "stream",
     "text": [
      "signature_0 0.82 MolLogP\n",
      "signature_0 0.71 NumAromaticCarbocycles\n",
      "signature_0 0.71 NumHAcceptors\n",
      "signature_0 0.71 SMR_VSA6\n",
      "signature_0 0.72 SMR_VSA7\n",
      "signature_0 0.78 SlogP_VSA2\n",
      "signature_0 0.71 VSA_EState2\n",
      "signature_0 0.71 VSA_EState6\n",
      "signature_0 0.71 fr_benzene\n",
      "signature_2 0.77 BertzCT\n",
      "signature_2 0.71 EState_VSA1\n",
      "signature_2 0.73 EState_VSA3\n",
      "signature_2 0.77 EState_VSA4\n",
      "signature_2 0.78 FractionCSP3\n",
      "signature_2 0.75 HallKierAlpha\n",
      "signature_2 0.73 MinEStateIndex\n",
      "signature_2 0.7 NumAliphaticHeterocycles\n",
      "signature_2 0.73 NumAromaticRings\n",
      "signature_2 0.7 NumHeteroatoms\n",
      "signature_2 0.71 NumSaturatedHeterocycles\n",
      "signature_2 0.75 SMR_VSA10\n",
      "signature_2 0.81 SMR_VSA6\n",
      "signature_2 0.76 SlogP_VSA2\n",
      "signature_2 0.8 TPSA\n",
      "signature_2 0.74 VSA_EState8\n",
      "signature_2 0.73 VSA_EState9\n",
      "signature_4 0.71 FractionCSP3\n",
      "signature_4 0.73 HallKierAlpha\n",
      "signature_5 0.73 MolLogP\n",
      "signature_5 0.72 NumAliphaticHeterocycles\n",
      "signature_5 0.73 NumRotatableBonds\n",
      "signature_6 0.82 MolLogP\n",
      "signature_6 0.83 NOCount\n",
      "signature_6 0.79 NumHAcceptors\n",
      "signature_6 0.7 NumHeteroatoms\n",
      "signature_6 0.72 PEOE_VSA7\n",
      "signature_6 0.74 SMR_VSA3\n",
      "signature_6 0.8 SlogP_VSA2\n",
      "signature_6 0.78 TPSA\n",
      "signature_6 0.74 VSA_EState2\n",
      "signature_6 0.72 fr_NH0\n",
      "signature_9 0.81 MolLogP\n",
      "signature_9 0.72 NOCount\n",
      "signature_9 0.77 SlogP_VSA2\n"
     ]
    },
    {
     "data": {
      "text/html": [
       "<div>\n",
       "<style scoped>\n",
       "    .dataframe tbody tr th:only-of-type {\n",
       "        vertical-align: middle;\n",
       "    }\n",
       "\n",
       "    .dataframe tbody tr th {\n",
       "        vertical-align: top;\n",
       "    }\n",
       "\n",
       "    .dataframe thead th {\n",
       "        text-align: right;\n",
       "    }\n",
       "</style>\n",
       "<table border=\"1\" class=\"dataframe\">\n",
       "  <thead>\n",
       "    <tr style=\"text-align: right;\">\n",
       "      <th></th>\n",
       "      <th>signature</th>\n",
       "      <th>property</th>\n",
       "      <th>auroc</th>\n",
       "    </tr>\n",
       "  </thead>\n",
       "  <tbody>\n",
       "    <tr>\n",
       "      <th>41</th>\n",
       "      <td>signature_9</td>\n",
       "      <td>MolLogP</td>\n",
       "      <td>0.805256</td>\n",
       "    </tr>\n",
       "    <tr>\n",
       "      <th>42</th>\n",
       "      <td>signature_9</td>\n",
       "      <td>NOCount</td>\n",
       "      <td>0.719901</td>\n",
       "    </tr>\n",
       "    <tr>\n",
       "      <th>43</th>\n",
       "      <td>signature_9</td>\n",
       "      <td>SlogP_VSA2</td>\n",
       "      <td>0.774483</td>\n",
       "    </tr>\n",
       "  </tbody>\n",
       "</table>\n",
       "</div>"
      ],
      "text/plain": [
       "      signature    property     auroc\n",
       "41  signature_9     MolLogP  0.805256\n",
       "42  signature_9     NOCount  0.719901\n",
       "43  signature_9  SlogP_VSA2  0.774483"
      ]
     },
     "execution_count": 155,
     "metadata": {},
     "output_type": "execute_result"
    }
   ],
   "source": [
    "R = []\n",
    "for col in list(d.columns):\n",
    "    if col.startswith(\"signature_\"):\n",
    "        y = d[col]\n",
    "        for pcol in list(physchem.columns)[3:]:\n",
    "            y_hat = np.array(physchem[pcol])\n",
    "            auroc = roc_auc_score(y, y_hat)\n",
    "            if auroc > 0.7:\n",
    "                print(col, round(auroc, 2), pcol)\n",
    "                R += [[col, pcol, auroc]]\n",
    "            else:\n",
    "                auroc = roc_auc_score(y, -y_hat)\n",
    "                if auroc > 0.7:\n",
    "                    print(col, round(auroc, 2), pcol)\n",
    "                    R += [[col, pcol, auroc]]\n",
    "\n",
    "ds = pd.DataFrame(R, columns=[\"signature\", \"property\", \"auroc\"])\n",
    "\n",
    "ds[ds[\"signature\"] == \"signature_9\"]"
   ]
  },
  {
   "cell_type": "code",
   "execution_count": 126,
   "metadata": {},
   "outputs": [
    {
     "data": {
      "text/plain": [
       "1"
      ]
     },
     "execution_count": 126,
     "metadata": {},
     "output_type": "execute_result"
    }
   ],
   "source": [
    "d[\"csp2\"].min()"
   ]
  },
  {
   "cell_type": "code",
   "execution_count": 3,
   "metadata": {},
   "outputs": [
    {
     "name": "stdout",
     "output_type": "stream",
     "text": [
      "12\n"
     ]
    },
    {
     "data": {
      "image/png": "[encoded data removed]",
      "text/plain": [
       "<Figure size 709x345 with 6 Axes>"
      ]
     },
     "metadata": {},
     "output_type": "display_data"
    }
   ],
   "source": [
    "from stylia.colors.colors import NamedColors\n",
    "\n",
    "def prom_correlation_plot(ax, col):\n",
    "    if col == \"logp\":\n",
    "        xlabel = \"LogP\"\n",
    "        xlim = (-0.5, 4.8)\n",
    "        color = NamedColors().red\n",
    "    elif col == \"csp2\":\n",
    "        xlabel = \"Csp2\"\n",
    "        xlim = (0,16)\n",
    "        color = NamedColors().blue\n",
    "    else:\n",
    "        xlabel = \"Score\"\n",
    "        xlim = (-0.05, 0.78)\n",
    "        color = NamedColors().green\n",
    "    y = list(d[\"prom\"])\n",
    "    x = list(d[col])\n",
    "    ax.scatter(x, y, color=color)\n",
    "    rho, pval = pearsonr(x,y)\n",
    "    title = \"rho {0:.3f}, p {1:.1e}\".format(rho, pval)\n",
    "    stylia.label(ax=ax, title=title, xlabel=xlabel, ylabel=\"Promiscuity\")\n",
    "    ax.set_xlim(xlim)\n",
    "\n",
    "def histogram(ax, col):\n",
    "    if col == \"logp\":\n",
    "        xlabel = \"LogP\"\n",
    "        xlim = (-0.5, 4.8)\n",
    "        color = NamedColors().red\n",
    "    elif col == \"csp2\":\n",
    "        xlabel = \"Csp2\"\n",
    "        xlim = (0,16)\n",
    "        color = NamedColors().blue\n",
    "    else:\n",
    "        xlabel = \"Score\"\n",
    "        xlim = (-0.05, 0.78)\n",
    "        color = NamedColors().green\n",
    "    ax.hist(d[col], color=color)\n",
    "    ax.set_xlim(xlim)\n",
    "    stylia.label(ax, title=\"{0} distribution\".format(xlabel), xlabel=xlabel, ylabel=\"Frequency\")\n",
    "\n",
    "def prediction_vs_property_plot(ax, col):\n",
    "    if col == \"logp\":\n",
    "        xlabel = \"LogP\"\n",
    "        xlim = (-0.5, 4.8)\n",
    "        color = NamedColors().red\n",
    "    elif col == \"csp2\":\n",
    "        xlabel = \"Csp2\"\n",
    "        xlim = (0,16)\n",
    "        color = NamedColors().blue\n",
    "    else:\n",
    "        xlabel = \"Score\"\n",
    "        xlim = (-0.5, 10.5)\n",
    "        color = NamedColors().green\n",
    "    ax.scatter(d[col], d[\"prom_sum_hat\"], color=color)\n",
    "    ax.set_xlim(xlim)\n",
    "    ax.set_ylim(-0.5, 10.5)\n",
    "    stylia.label(ax=ax, title=\"{0} vs Score\".format(xlabel), xlabel=xlabel, ylabel=\"Score (sum promiscuity)\")\n",
    "\n",
    "def aurocs_comparison_plot(ax):\n",
    "    logp = list(d[\"logp\"])\n",
    "    aurocs_x = []\n",
    "    aurocs_y = []\n",
    "    for col in list(d.columns):\n",
    "        if col.startswith(\"promiscuity_\") and not \"_hat\" in col:\n",
    "            y = list(d[col])\n",
    "            y_hat = list(d[col+\"_hat\"])\n",
    "            auroc_x = roc_auc_score(y, logp)\n",
    "            auroc_y = roc_auc_score(y, y_hat)\n",
    "            aurocs_x += [auroc_x]\n",
    "            aurocs_y += [auroc_y]\n",
    "    ax.scatter(aurocs_x, aurocs_y)\n",
    "    print(len(aurocs_x))\n",
    "    ax.plot([0,1], [0,1])\n",
    "    ax.set_xlim(0.65, 0.90)\n",
    "    ax.set_ylim(0.65, 0.90)\n",
    "            \n",
    "fig, axs = stylia.create_figure(2,3)\n",
    "ax = axs.next()\n",
    "prom_correlation_plot(ax, \"logp\")\n",
    "ax = axs.next()\n",
    "prom_correlation_plot(ax, \"prom_sum_hat\")\n",
    "ax = axs.next()\n",
    "histogram(ax, \"logp\")\n",
    "ax = axs.next()\n",
    "histogram(ax, \"prom_avg_hat\")\n",
    "ax = axs.next()\n",
    "aurocs_comparison_plot(ax)\n",
    "ax = axs.next()\n",
    "ax.scatter(d[\"logp\"], d[\"prom_sum_hat\"])\n",
    "stylia.label(\"\")\n",
    "plt.tight_layout()"
   ]
  },
  {
   "cell_type": "code",
   "execution_count": 146,
   "metadata": {},
   "outputs": [
    {
     "data": {
      "image/png": "[encoded data removed]",
      "text/plain": [
       "<Figure size 567.2x354.5 with 6 Axes>"
      ]
     },
     "metadata": {},
     "output_type": "display_data"
    }
   ],
   "source": [
    "fig, axs = stylia.create_figure(2, 3, width=stylia.TWO_COLUMNS_WIDTH*0.8, height=stylia.TWO_COLUMNS_WIDTH*0.5)\n",
    "ax = axs.next()\n",
    "prom_correlation_plot(ax, \"logp\")\n",
    "ax = axs.next()\n",
    "prediction_vs_property_plot(ax, \"logp\")\n",
    "ax = axs.next()\n",
    "histogram(ax, \"logp\")\n",
    "ax = axs.next()\n",
    "prom_correlation_plot(ax, \"csp2\")\n",
    "ax = axs.next()\n",
    "prediction_vs_property_plot(ax, \"csp2\")\n",
    "ax = axs.next()\n",
    "histogram(ax, \"csp2\")\n",
    "plt.tight_layout()\n",
    "\n",
    "stylia.save_figure(\"../assets/RebuttalFigure_Promiscuity_Csp2.png\")\n",
    "stylia.save_figure(\"../assets/RebuttalFigure_Promiscuity_Csp2.pdf\")"
   ]
  },
  {
   "cell_type": "code",
   "execution_count": 89,
   "metadata": {},
   "outputs": [
    {
     "data": {
      "image/png": "[encoded data removed]",
      "text/plain": [
       "<Figure size 640x480 with 1 Axes>"
      ]
     },
     "metadata": {},
     "output_type": "display_data"
    }
   ],
   "source": [
    "def generate_intervals(start, end, num_intervals):\n",
    "    if num_intervals <= 0:\n",
    "        raise ValueError(\"Number of intervals must be positive\")\n",
    "    \n",
    "    step = (end - start) / num_intervals\n",
    "    intervals = [(start + i * step, start + (i + 1) * step) for i in range(num_intervals)]\n",
    "\n",
    "    return intervals\n",
    "\n",
    "def logp_boxplot(ax):\n",
    "    intervals = generate_intervals(-0.5, 5, 10)\n",
    "    R = []\n",
    "    for interval in intervals:\n",
    "        d_ = d[d[\"logp\"] >= interval[0]]\n",
    "        d_ = d[d[\"logp\"] < interval[1]]\n",
    "        vals = list(d_[\"prom\"])\n",
    "        R += [vals]\n",
    "    ax.boxplot(R)\n",
    "    ax.set_xticklabels([round(np.mean(x),2) for x in intervals])\n",
    "\n",
    "fig, ax = plt.subplots(1,1)\n",
    "logp_boxplot(ax)"
   ]
  },
  {
   "cell_type": "code",
   "execution_count": 73,
   "metadata": {},
   "outputs": [
    {
     "data": {
      "text/plain": [
       "[(2.0, 2.1),\n",
       " (2.1, 2.2),\n",
       " (2.2, 2.3),\n",
       " (2.3, 2.4),\n",
       " (2.4, 2.5),\n",
       " (2.5, 2.6),\n",
       " (2.6, 2.7),\n",
       " (2.7, 2.8),\n",
       " (2.8, 2.9),\n",
       " (2.9, 3.0)]"
      ]
     },
     "execution_count": 73,
     "metadata": {},
     "output_type": "execute_result"
    }
   ],
   "source": [
    "\n",
    "\n",
    "# Example usage\n",
    "start_value = float(input(\"Enter the start value: \"))\n",
    "end_value = float(input(\"Enter the end value: \"))\n",
    "num_intervals = int(input(\"Enter the number of intervals: \"))\n",
    "\n",
    "\n",
    "intervals = generate_intervals(start_value, end_value, num_intervals)\n",
    "\n",
    "intervals"
   ]
  },
  {
   "cell_type": "code",
   "execution_count": 81,
   "metadata": {},
   "outputs": [],
   "source": [
    "df = pd.read_csv(\"../data/specificity_pxf.csv\")"
   ]
  },
  {
   "cell_type": "code",
   "execution_count": 106,
   "metadata": {},
   "outputs": [],
   "source": [
    "d = pd.read_csv(\"../results/complex_vs_simple/specificity_pxf2.csv\")"
   ]
  },
  {
   "cell_type": "code",
   "execution_count": 111,
   "metadata": {},
   "outputs": [
    {
     "data": {
      "text/plain": [
       "0.8238068500842223"
      ]
     },
     "execution_count": 111,
     "metadata": {},
     "output_type": "execute_result"
    }
   ],
   "source": [
    "roc_auc_score(d[\"y\"], d[\"y_hat\"])"
   ]
  },
  {
   "cell_type": "code",
   "execution_count": 107,
   "metadata": {},
   "outputs": [],
   "source": [
    "from rdkit.Chem.Crippen import MolLogP\n",
    "from rdkit import Chem\n",
    "df[\"logp\"] = [MolLogP(Chem.MolFromSmiles(smi)) for smi in list(df[\"smiles\"])]"
   ]
  },
  {
   "cell_type": "code",
   "execution_count": 109,
   "metadata": {},
   "outputs": [
    {
     "ename": "KeyError",
     "evalue": "'y_hat'",
     "output_type": "error",
     "traceback": [
      "\u001b[0;31m---------------------------------------------------------------------------\u001b[0m",
      "\u001b[0;31mKeyError\u001b[0m                                  Traceback (most recent call last)",
      "File \u001b[0;32m~/miniconda3/envs/bdfigs/lib/python3.10/site-packages/pandas/core/indexes/base.py:3802\u001b[0m, in \u001b[0;36mIndex.get_loc\u001b[0;34m(self, key, method, tolerance)\u001b[0m\n\u001b[1;32m   3801\u001b[0m \u001b[38;5;28;01mtry\u001b[39;00m:\n\u001b[0;32m-> 3802\u001b[0m     \u001b[38;5;28;01mreturn\u001b[39;00m \u001b[38;5;28;43mself\u001b[39;49m\u001b[38;5;241;43m.\u001b[39;49m\u001b[43m_engine\u001b[49m\u001b[38;5;241;43m.\u001b[39;49m\u001b[43mget_loc\u001b[49m\u001b[43m(\u001b[49m\u001b[43mcasted_key\u001b[49m\u001b[43m)\u001b[49m\n\u001b[1;32m   3803\u001b[0m \u001b[38;5;28;01mexcept\u001b[39;00m \u001b[38;5;167;01mKeyError\u001b[39;00m \u001b[38;5;28;01mas\u001b[39;00m err:\n",
      "File \u001b[0;32m~/miniconda3/envs/bdfigs/lib/python3.10/site-packages/pandas/_libs/index.pyx:138\u001b[0m, in \u001b[0;36mpandas._libs.index.IndexEngine.get_loc\u001b[0;34m()\u001b[0m\n",
      "File \u001b[0;32m~/miniconda3/envs/bdfigs/lib/python3.10/site-packages/pandas/_libs/index.pyx:165\u001b[0m, in \u001b[0;36mpandas._libs.index.IndexEngine.get_loc\u001b[0;34m()\u001b[0m\n",
      "File \u001b[0;32mpandas/_libs/hashtable_class_helper.pxi:5745\u001b[0m, in \u001b[0;36mpandas._libs.hashtable.PyObjectHashTable.get_item\u001b[0;34m()\u001b[0m\n",
      "File \u001b[0;32mpandas/_libs/hashtable_class_helper.pxi:5753\u001b[0m, in \u001b[0;36mpandas._libs.hashtable.PyObjectHashTable.get_item\u001b[0;34m()\u001b[0m\n",
      "\u001b[0;31mKeyError\u001b[0m: 'y_hat'",
      "\nThe above exception was the direct cause of the following exception:\n",
      "\u001b[0;31mKeyError\u001b[0m                                  Traceback (most recent call last)",
      "Cell \u001b[0;32mIn[109], line 1\u001b[0m\n\u001b[0;32m----> 1\u001b[0m roc_auc_score(df[\u001b[38;5;124m\"\u001b[39m\u001b[38;5;124mspecificity_pxf2\u001b[39m\u001b[38;5;124m\"\u001b[39m], \u001b[38;5;241m-\u001b[39mnp\u001b[38;5;241m.\u001b[39marray(\u001b[43mdf\u001b[49m\u001b[43m[\u001b[49m\u001b[38;5;124;43m\"\u001b[39;49m\u001b[38;5;124;43my_hat\u001b[39;49m\u001b[38;5;124;43m\"\u001b[39;49m\u001b[43m]\u001b[49m))\n",
      "File \u001b[0;32m~/miniconda3/envs/bdfigs/lib/python3.10/site-packages/pandas/core/frame.py:3807\u001b[0m, in \u001b[0;36mDataFrame.__getitem__\u001b[0;34m(self, key)\u001b[0m\n\u001b[1;32m   3805\u001b[0m \u001b[38;5;28;01mif\u001b[39;00m \u001b[38;5;28mself\u001b[39m\u001b[38;5;241m.\u001b[39mcolumns\u001b[38;5;241m.\u001b[39mnlevels \u001b[38;5;241m>\u001b[39m \u001b[38;5;241m1\u001b[39m:\n\u001b[1;32m   3806\u001b[0m     \u001b[38;5;28;01mreturn\u001b[39;00m \u001b[38;5;28mself\u001b[39m\u001b[38;5;241m.\u001b[39m_getitem_multilevel(key)\n\u001b[0;32m-> 3807\u001b[0m indexer \u001b[38;5;241m=\u001b[39m \u001b[38;5;28;43mself\u001b[39;49m\u001b[38;5;241;43m.\u001b[39;49m\u001b[43mcolumns\u001b[49m\u001b[38;5;241;43m.\u001b[39;49m\u001b[43mget_loc\u001b[49m\u001b[43m(\u001b[49m\u001b[43mkey\u001b[49m\u001b[43m)\u001b[49m\n\u001b[1;32m   3808\u001b[0m \u001b[38;5;28;01mif\u001b[39;00m is_integer(indexer):\n\u001b[1;32m   3809\u001b[0m     indexer \u001b[38;5;241m=\u001b[39m [indexer]\n",
      "File \u001b[0;32m~/miniconda3/envs/bdfigs/lib/python3.10/site-packages/pandas/core/indexes/base.py:3804\u001b[0m, in \u001b[0;36mIndex.get_loc\u001b[0;34m(self, key, method, tolerance)\u001b[0m\n\u001b[1;32m   3802\u001b[0m     \u001b[38;5;28;01mreturn\u001b[39;00m \u001b[38;5;28mself\u001b[39m\u001b[38;5;241m.\u001b[39m_engine\u001b[38;5;241m.\u001b[39mget_loc(casted_key)\n\u001b[1;32m   3803\u001b[0m \u001b[38;5;28;01mexcept\u001b[39;00m \u001b[38;5;167;01mKeyError\u001b[39;00m \u001b[38;5;28;01mas\u001b[39;00m err:\n\u001b[0;32m-> 3804\u001b[0m     \u001b[38;5;28;01mraise\u001b[39;00m \u001b[38;5;167;01mKeyError\u001b[39;00m(key) \u001b[38;5;28;01mfrom\u001b[39;00m \u001b[38;5;21;01merr\u001b[39;00m\n\u001b[1;32m   3805\u001b[0m \u001b[38;5;28;01mexcept\u001b[39;00m \u001b[38;5;167;01mTypeError\u001b[39;00m:\n\u001b[1;32m   3806\u001b[0m     \u001b[38;5;66;03m# If we have a listlike key, _check_indexing_error will raise\u001b[39;00m\n\u001b[1;32m   3807\u001b[0m     \u001b[38;5;66;03m#  InvalidIndexError. Otherwise we fall through and re-raise\u001b[39;00m\n\u001b[1;32m   3808\u001b[0m     \u001b[38;5;66;03m#  the TypeError.\u001b[39;00m\n\u001b[1;32m   3809\u001b[0m     \u001b[38;5;28mself\u001b[39m\u001b[38;5;241m.\u001b[39m_check_indexing_error(key)\n",
      "\u001b[0;31mKeyError\u001b[0m: 'y_hat'"
     ]
    }
   ],
   "source": [
    "roc_auc_score(df[\"specificity_pxf2\"], -np.array(df[\"y_hat\"]))"
   ]
  },
  {
   "cell_type": "code",
   "execution_count": 253,
   "metadata": {},
   "outputs": [
    {
     "name": "stdout",
     "output_type": "stream",
     "text": [
      "[16.42399464198646, 16.408887835560336, 16.39366950990534, 16.33724578991208, 16.327510526715336, 16.353641796248322, 19.145015016969822, 19.118838876877437, 19.110667178306468, 19.494614640972003, 15.373236484228036, 18.057785024747638, 18.105568204284562, 18.096408483453285, 18.117185211836855, 18.117185211836855, 18.093092604637828, 18.05796223276591, 18.065038056976245, 18.167839717478795, 18.167839717478795, 18.184784848878472, 18.184784848878472, 16.676462454609492, 16.687192693799638, 16.67790154665748, 16.68239790917361, 16.69166258944866, 16.725597149279903, 17.967092140911394, 17.949094684690927, 21.474161217612203, 21.479441333517034, 21.438283513378586, 21.438283513378586, 21.438283513378586, 21.464212074986587, 21.464212074986587, 21.464212074986587, 21.41677846922828, 21.37942936563088, 21.317495162424688, 21.334675999414664, 20.838051732347726, 20.995199451303147, 20.980190656903, 21.000085714110785, 21.010473578670233, 21.005951537600005, 20.956994059263366, 20.967594044143457, 21.630617189530216, 22.043738339945882, 22.043738339945882, 22.111571631161816, 22.412505437813063, 20.52792244724244, 44.00988979763525, 44.0180008632832, 44.01767372317624, 44.23403666861075, 43.71896156131799, 43.751228554178915, 44.32806785773547, 44.341966577949606, 44.27741636545656, 44.29629329864972, 49.99376361107453, 54.66113793180673, 54.73529391535228, 54.66409790712731, 54.6357977886294, 54.6357977886294, 54.54882583520933, 54.558112137426455, 54.45160787341362, 54.492201276879975, 54.451607873413614, 54.46754630052652, 54.360927144411356, 54.755076476980655, 60.87307779306054, 60.79209159092982, 60.917744541307506, 60.76434480844832, 74.09911200547548, 74.02438787318677, 74.08926777880856, 73.83572035268566, 73.72564275745583, 73.87514873081474, 73.99033720696237, 74.04647189434483, 74.05821763990814, 74.28647252360284, 74.47106552212074, 74.47106552212074, 74.43761414768746, 74.54225378937774, 74.59491671689163, 74.56173013014116, 74.79079087695223, 74.98138702371409, 74.98138702371409, 74.7589218755862, 74.99047672871535, 74.88758508591395, 68.89005733776101, 69.19573686290218, 69.19573686290218, 69.25624592771399, 72.75345764979147, 72.66235338880789, 72.75333944225517, 73.0511628928657, 73.15469636325476, 73.15077306495127, 70.53817122664861, 67.78680992641563, 67.86970163482376, 67.89845359063783, 67.96162446557616, 69.73602799127579, 69.84154637463291, 79.52358140828417, 79.78279513779898, 79.59526619089856, 79.49806538526582, 79.55838359343407, 82.62739497285388, 86.83640711130326, 83.21487607393284, 83.47565872755962, 84.70652631291169, 84.75783149656438, 74.04081036833674, 74.63871381528489, 74.5999490616448, 74.89842721980216, 75.26725981460997, 75.29321084931895, 75.28010626985059, 75.28010626985059, 75.15307312412446, 75.0513664099462, 74.7144136027313, 74.50040536802467, 78.33070662262661, 78.34538914320358, 78.24781402697458, 77.992330392161, 77.80283028270887, 79.77393057885514, 81.00463196632647, 83.72914426888644, 84.83915133946118, 85.45728523654377, 84.07522583972046, 83.97360537692781, 83.97360537692781, 83.7036701704292, 81.55807746630619, 81.57812451877035, 84.59107281504356, 84.13346539873417, 94.02509452268582, 97.00791926435697, 97.76867391961497, 101.42016564766594, 105.8776293652252, 105.35202133798856, 105.2822891088525, 106.74141651673918, 105.75189076323882, 103.36266250440725, 103.28303636125345, 102.64277665768789, 101.80381918179691, 102.21394229751634, 102.15340620850584, 100.8691350215714, 100.09060895009081, 98.96350034229792, 99.80683142951689, 100.25491708639532, 101.14357320166219, 102.15478647620972, 102.19504684670387, 103.99632493506681, 104.69301600393409, 104.6930160039341, 103.55977790628947, 102.56845713960992, 103.51038788450172, 102.54226250673426, 104.96078505803965, 105.49308223765196, 104.37635939234517, 113.48766276560637, 113.42631264393637, 114.03009427339785, 112.91852638074941, 112.75545929133541, 113.69774667951867, 119.41277151125837, 119.29441898093975, 118.74712628101784, 124.4194132762247, 125.13108167038276, 125.06376613551984, 126.25066494874395, 126.59736016205076, 126.04897619576289, 127.00236218275627, 132.2816223063506, 129.6554649831622, 131.02672093889856, 131.18248206220218, 129.38968119599028, 130.24553581601177, 130.97210237298628, 130.9184845619594, 130.16320370980426, 131.22498085349451, 136.13738501969252, 136.016698974795, 137.22554426927954, 138.2205541878631, 137.6410636401797, 136.85446868845753, 136.79667247415048, 137.08298362670692, 138.3885833441473, 136.73882989114685, 141.43811226115824, 140.01180521656022, 139.9334070191961, 138.08059240892618, 137.25738741503133, 137.50244943272827, 137.55670976001133, 140.62510302218448, 141.9706392181144, 140.71467443021, 145.83185523060456, 145.85591383279598, 147.1506710823977, 148.52254912975334, 143.85311953517032, 142.634258157008, 142.23364580857793, 142.15264471686766, 141.85640627056645, 139.78759458549962, 142.67623347986168, 146.89696525115826, 145.44060643437925, 145.02510127560677, 145.8157522354838, 145.8941383332449, 143.55228873131907, 142.1351131846033, 142.17932901796942, 142.17932901796942, 142.35495916897312, 143.83826472813138, 147.9576817877328, 150.2539303978435, 149.61535883725307, 147.79064111099862, 145.29710802352537, 144.70442287642766, 144.78636538016968, 144.93657785390133, 142.3283527621956, 144.2741016260368, 143.38511638241957, 143.06818094880498, 143.2645050247967, 141.96221469109307, 144.01328272072683, 145.6471475862126, 149.3597656666614, 152.00592093731086, 149.72855439093775, 149.48480056514106, 149.85363659250984, 150.9515895908354, 153.17294930894295, 151.81021836490453, 155.8587065261354, 153.76366410826716, 151.0999880873589, 151.27918032564824, 146.35303208338394, 145.62856862580225, 143.94356671973915, 142.59705607059354, 142.4386478453092, 142.99386840001216, 146.01011471812492, 148.2562228036314, 147.7484470307556, 149.36589302782613, 144.54492588811272, 142.0033253131771, 144.00142221519897, 144.00142221519897, 143.7554812868017, 141.4338912707983, 141.6247506617399, 141.5948883258149, 142.39592690804045, 139.16936588200724, 136.64646501099105, 134.68914729851105, 132.58419815347528, 129.58299888488457, 130.77376495306694, 132.38342041207426, 132.38755379566464, 134.8163565744157, 138.04905794680383, 138.57344767306614, 137.89749816439746, 134.63936422903964, 135.03410087825964, 137.91017511409373, 141.3356303272462, 143.9144537563896, 142.2909709011784, 142.5841856588591, 138.90572342419875, 137.76295728533123, 135.14999075101707, 135.93284224204245, 135.93284224204245, 138.1299228986971, 134.53392285962673, 134.1453003276671, 130.07440332363626, 133.94646094615564, 136.02549908013572, 134.56023781191828, 136.92511968225554, 137.4939998690852, 138.69363215375103, 138.36467901888835, 142.23576062298818, 143.76222591487655, 141.24135371767008, 138.30800555282403, 138.46310122195013, 137.1934765212982, 140.7027234988719, 139.00650488376434, 138.1434920653159, 136.34993802712196]\n"
     ]
    }
   ],
   "source": [
    "def sliding_window_variability(y_hat, y, window_size):\n",
    "    import numpy as np\n",
    "\n",
    "    if len(y_hat) != len(y):\n",
    "        raise ValueError(\"y_hat and y must be of the same length.\")\n",
    "\n",
    "    if window_size <= 0:\n",
    "        raise ValueError(\"Window size must be positive.\")\n",
    "\n",
    "    if window_size > len(y_hat):\n",
    "        raise ValueError(\"Window size must be less than or equal to the length of the data.\")\n",
    "\n",
    "    paired = sorted(zip(y_hat, y))\n",
    "    y_hat = [y_[0] for y_ in paired]\n",
    "    y = [y_[1] for y_ in paired]\n",
    "\n",
    "    variability = []\n",
    "    for i in range(len(y_hat) - window_size + 1):\n",
    "        window_y = y[i:i + window_size]\n",
    "        variability.append(np.std(window_y))  # or np.std(window_y) for standard deviation\n",
    "\n",
    "    return variability\n",
    "\n",
    "\n",
    "window_size = 50\n",
    "\n",
    "variability = sliding_window_variability(d[\"prom_reg_hat\"], d[\"prom\"], window_size)\n",
    "print(variability)\n"
   ]
  },
  {
   "cell_type": "code",
   "execution_count": 241,
   "metadata": {},
   "outputs": [
    {
     "data": {
      "text/plain": [
       "[<matplotlib.lines.Line2D at 0x296c82020>]"
      ]
     },
     "execution_count": 241,
     "metadata": {},
     "output_type": "execute_result"
    },
    {
     "data": {
      "image/png": "[encoded data removed]",
      "text/plain": [
       "<Figure size 640x480 with 1 Axes>"
      ]
     },
     "metadata": {},
     "output_type": "display_data"
    }
   ],
   "source": [
    "plt.plot(variability)"
   ]
  },
  {
   "cell_type": "code",
   "execution_count": 188,
   "metadata": {},
   "outputs": [],
   "source": [
    "from sklearn.metrics import precision_recall_curve"
   ]
  },
  {
   "cell_type": "code",
   "execution_count": 273,
   "metadata": {},
   "outputs": [
    {
     "data": {
      "text/plain": [
       "0.6242737754356774"
      ]
     },
     "execution_count": 273,
     "metadata": {},
     "output_type": "execute_result"
    },
    {
     "data": {
      "image/png": "[encoded data removed]",
      "text/plain": [
       "<Figure size 640x480 with 1 Axes>"
      ]
     },
     "metadata": {},
     "output_type": "display_data"
    }
   ],
   "source": [
    "fpr, tpr, _ = precision_recall_curve(d[\"promiscuity_pxf0\"], d[\"promiscuity_pxf0_hat\"])\n",
    "plt.plot(tpr, fpr)\n",
    "auc(tpr, fpr)"
   ]
  },
  {
   "cell_type": "code",
   "execution_count": 180,
   "metadata": {},
   "outputs": [
    {
     "data": {
      "text/plain": [
       "[<matplotlib.lines.Line2D at 0x294ff3520>]"
      ]
     },
     "execution_count": 180,
     "metadata": {},
     "output_type": "execute_result"
    },
    {
     "data": {
      "image/png": "[encoded data removed]",
      "text/plain": [
       "<Figure size 640x480 with 1 Axes>"
      ]
     },
     "metadata": {},
     "output_type": "display_data"
    }
   ],
   "source": [
    "from sklearn.calibration import calibration_curve\n",
    "\n",
    "x, y = calibration_curve(d[\"promiscuity_pxf2\"], d[\"promiscuity_pxf2_hat\"]/np.max(d[\"promiscuity_pxf2_hat\"]), n_bins=5)\n",
    "plt.scatter(x,y)\n",
    "plt.xlim(0,1)\n",
    "plt.ylim(0,1)\n",
    "plt.plot([0,1], [0,1])"
   ]
  },
  {
   "cell_type": "code",
   "execution_count": null,
   "metadata": {},
   "outputs": [],
   "source": [
    "from sklearn.calibration import calibration_curve\n",
    "\n",
    "x, y = calibration_curve(d[\"promiscuity_pxf0\"], d[\"logp\"], n_bins=5)\n",
    "plt.scatter(x,y)"
   ]
  },
  {
   "cell_type": "code",
   "execution_count": 158,
   "metadata": {},
   "outputs": [
    {
     "data": {
      "text/html": [
       "<div>\n",
       "<style scoped>\n",
       "    .dataframe tbody tr th:only-of-type {\n",
       "        vertical-align: middle;\n",
       "    }\n",
       "\n",
       "    .dataframe tbody tr th {\n",
       "        vertical-align: top;\n",
       "    }\n",
       "\n",
       "    .dataframe thead th {\n",
       "        text-align: right;\n",
       "    }\n",
       "</style>\n",
       "<table border=\"1\" class=\"dataframe\">\n",
       "  <thead>\n",
       "    <tr style=\"text-align: right;\">\n",
       "      <th></th>\n",
       "      <th>fid</th>\n",
       "      <th>logp</th>\n",
       "      <th>csp2</th>\n",
       "      <th>prom</th>\n",
       "      <th>promiscuity_pxf0</th>\n",
       "      <th>promiscuity_pxf0_hat</th>\n",
       "      <th>promiscuity_pxf1</th>\n",
       "      <th>promiscuity_pxf1_hat</th>\n",
       "      <th>promiscuity_pxf2</th>\n",
       "      <th>promiscuity_pxf2_hat</th>\n",
       "      <th>promiscuity_fxp0_pxf0</th>\n",
       "      <th>promiscuity_fxp0_pxf0_hat</th>\n",
       "      <th>promiscuity_fxp0_pxf1</th>\n",
       "      <th>promiscuity_fxp0_pxf1_hat</th>\n",
       "      <th>prom_lr_hat</th>\n",
       "      <th>prom_avg_hat</th>\n",
       "    </tr>\n",
       "  </thead>\n",
       "  <tbody>\n",
       "    <tr>\n",
       "      <th>0</th>\n",
       "      <td>C001</td>\n",
       "      <td>3.46930</td>\n",
       "      <td>7</td>\n",
       "      <td>91</td>\n",
       "      <td>0</td>\n",
       "      <td>0.741166</td>\n",
       "      <td>0</td>\n",
       "      <td>0.594716</td>\n",
       "      <td>0</td>\n",
       "      <td>0.069736</td>\n",
       "      <td>0</td>\n",
       "      <td>0.758380</td>\n",
       "      <td>0</td>\n",
       "      <td>0.537187</td>\n",
       "      <td>283.799763</td>\n",
       "      <td>0.553705</td>\n",
       "    </tr>\n",
       "    <tr>\n",
       "      <th>1</th>\n",
       "      <td>C002</td>\n",
       "      <td>2.12232</td>\n",
       "      <td>10</td>\n",
       "      <td>14</td>\n",
       "      <td>0</td>\n",
       "      <td>0.226607</td>\n",
       "      <td>0</td>\n",
       "      <td>0.044745</td>\n",
       "      <td>0</td>\n",
       "      <td>0.018708</td>\n",
       "      <td>0</td>\n",
       "      <td>0.067628</td>\n",
       "      <td>0</td>\n",
       "      <td>0.124244</td>\n",
       "      <td>77.531148</td>\n",
       "      <td>0.099439</td>\n",
       "    </tr>\n",
       "    <tr>\n",
       "      <th>2</th>\n",
       "      <td>C003</td>\n",
       "      <td>3.17886</td>\n",
       "      <td>10</td>\n",
       "      <td>93</td>\n",
       "      <td>0</td>\n",
       "      <td>0.083453</td>\n",
       "      <td>0</td>\n",
       "      <td>0.044700</td>\n",
       "      <td>0</td>\n",
       "      <td>0.038084</td>\n",
       "      <td>1</td>\n",
       "      <td>0.125325</td>\n",
       "      <td>1</td>\n",
       "      <td>0.052682</td>\n",
       "      <td>64.387480</td>\n",
       "      <td>0.069898</td>\n",
       "    </tr>\n",
       "    <tr>\n",
       "      <th>3</th>\n",
       "      <td>C004</td>\n",
       "      <td>4.03440</td>\n",
       "      <td>8</td>\n",
       "      <td>288</td>\n",
       "      <td>1</td>\n",
       "      <td>0.787384</td>\n",
       "      <td>0</td>\n",
       "      <td>0.061427</td>\n",
       "      <td>0</td>\n",
       "      <td>0.004660</td>\n",
       "      <td>1</td>\n",
       "      <td>0.860840</td>\n",
       "      <td>1</td>\n",
       "      <td>0.351793</td>\n",
       "      <td>261.855666</td>\n",
       "      <td>0.427844</td>\n",
       "    </tr>\n",
       "    <tr>\n",
       "      <th>4</th>\n",
       "      <td>C006</td>\n",
       "      <td>2.57990</td>\n",
       "      <td>3</td>\n",
       "      <td>8</td>\n",
       "      <td>0</td>\n",
       "      <td>0.143398</td>\n",
       "      <td>0</td>\n",
       "      <td>0.066741</td>\n",
       "      <td>0</td>\n",
       "      <td>0.020218</td>\n",
       "      <td>0</td>\n",
       "      <td>0.118502</td>\n",
       "      <td>0</td>\n",
       "      <td>0.107875</td>\n",
       "      <td>72.345750</td>\n",
       "      <td>0.093514</td>\n",
       "    </tr>\n",
       "    <tr>\n",
       "      <th>...</th>\n",
       "      <td>...</td>\n",
       "      <td>...</td>\n",
       "      <td>...</td>\n",
       "      <td>...</td>\n",
       "      <td>...</td>\n",
       "      <td>...</td>\n",
       "      <td>...</td>\n",
       "      <td>...</td>\n",
       "      <td>...</td>\n",
       "      <td>...</td>\n",
       "      <td>...</td>\n",
       "      <td>...</td>\n",
       "      <td>...</td>\n",
       "      <td>...</td>\n",
       "      <td>...</td>\n",
       "      <td>...</td>\n",
       "    </tr>\n",
       "    <tr>\n",
       "      <th>402</th>\n",
       "      <td>C429</td>\n",
       "      <td>4.65142</td>\n",
       "      <td>10</td>\n",
       "      <td>277</td>\n",
       "      <td>1</td>\n",
       "      <td>0.484516</td>\n",
       "      <td>0</td>\n",
       "      <td>0.057109</td>\n",
       "      <td>0</td>\n",
       "      <td>0.056383</td>\n",
       "      <td>1</td>\n",
       "      <td>0.696066</td>\n",
       "      <td>0</td>\n",
       "      <td>0.259443</td>\n",
       "      <td>197.351819</td>\n",
       "      <td>0.319363</td>\n",
       "    </tr>\n",
       "    <tr>\n",
       "      <th>403</th>\n",
       "      <td>C430</td>\n",
       "      <td>2.85670</td>\n",
       "      <td>9</td>\n",
       "      <td>88</td>\n",
       "      <td>0</td>\n",
       "      <td>0.338531</td>\n",
       "      <td>0</td>\n",
       "      <td>0.154690</td>\n",
       "      <td>0</td>\n",
       "      <td>0.012154</td>\n",
       "      <td>0</td>\n",
       "      <td>0.307429</td>\n",
       "      <td>0</td>\n",
       "      <td>0.342624</td>\n",
       "      <td>127.561523</td>\n",
       "      <td>0.236786</td>\n",
       "    </tr>\n",
       "    <tr>\n",
       "      <th>404</th>\n",
       "      <td>C431</td>\n",
       "      <td>4.20610</td>\n",
       "      <td>9</td>\n",
       "      <td>329</td>\n",
       "      <td>1</td>\n",
       "      <td>0.623060</td>\n",
       "      <td>1</td>\n",
       "      <td>0.086901</td>\n",
       "      <td>0</td>\n",
       "      <td>0.033024</td>\n",
       "      <td>1</td>\n",
       "      <td>0.521513</td>\n",
       "      <td>1</td>\n",
       "      <td>0.435396</td>\n",
       "      <td>192.376800</td>\n",
       "      <td>0.349923</td>\n",
       "    </tr>\n",
       "    <tr>\n",
       "      <th>405</th>\n",
       "      <td>C432</td>\n",
       "      <td>1.35930</td>\n",
       "      <td>5</td>\n",
       "      <td>17</td>\n",
       "      <td>0</td>\n",
       "      <td>0.049199</td>\n",
       "      <td>0</td>\n",
       "      <td>0.055690</td>\n",
       "      <td>0</td>\n",
       "      <td>0.027849</td>\n",
       "      <td>0</td>\n",
       "      <td>0.055982</td>\n",
       "      <td>0</td>\n",
       "      <td>0.058745</td>\n",
       "      <td>50.163854</td>\n",
       "      <td>0.049944</td>\n",
       "    </tr>\n",
       "    <tr>\n",
       "      <th>406</th>\n",
       "      <td>C433</td>\n",
       "      <td>2.16180</td>\n",
       "      <td>7</td>\n",
       "      <td>154</td>\n",
       "      <td>0</td>\n",
       "      <td>0.465001</td>\n",
       "      <td>0</td>\n",
       "      <td>0.013664</td>\n",
       "      <td>0</td>\n",
       "      <td>0.010212</td>\n",
       "      <td>0</td>\n",
       "      <td>0.347825</td>\n",
       "      <td>0</td>\n",
       "      <td>0.329726</td>\n",
       "      <td>143.424952</td>\n",
       "      <td>0.240615</td>\n",
       "    </tr>\n",
       "  </tbody>\n",
       "</table>\n",
       "<p>407 rows × 16 columns</p>\n",
       "</div>"
      ],
      "text/plain": [
       "      fid     logp  csp2  prom  promiscuity_pxf0  promiscuity_pxf0_hat  \\\n",
       "0    C001  3.46930     7    91                 0              0.741166   \n",
       "1    C002  2.12232    10    14                 0              0.226607   \n",
       "2    C003  3.17886    10    93                 0              0.083453   \n",
       "3    C004  4.03440     8   288                 1              0.787384   \n",
       "4    C006  2.57990     3     8                 0              0.143398   \n",
       "..    ...      ...   ...   ...               ...                   ...   \n",
       "402  C429  4.65142    10   277                 1              0.484516   \n",
       "403  C430  2.85670     9    88                 0              0.338531   \n",
       "404  C431  4.20610     9   329                 1              0.623060   \n",
       "405  C432  1.35930     5    17                 0              0.049199   \n",
       "406  C433  2.16180     7   154                 0              0.465001   \n",
       "\n",
       "     promiscuity_pxf1  promiscuity_pxf1_hat  promiscuity_pxf2  \\\n",
       "0                   0              0.594716                 0   \n",
       "1                   0              0.044745                 0   \n",
       "2                   0              0.044700                 0   \n",
       "3                   0              0.061427                 0   \n",
       "4                   0              0.066741                 0   \n",
       "..                ...                   ...               ...   \n",
       "402                 0              0.057109                 0   \n",
       "403                 0              0.154690                 0   \n",
       "404                 1              0.086901                 0   \n",
       "405                 0              0.055690                 0   \n",
       "406                 0              0.013664                 0   \n",
       "\n",
       "     promiscuity_pxf2_hat  promiscuity_fxp0_pxf0  promiscuity_fxp0_pxf0_hat  \\\n",
       "0                0.069736                      0                   0.758380   \n",
       "1                0.018708                      0                   0.067628   \n",
       "2                0.038084                      1                   0.125325   \n",
       "3                0.004660                      1                   0.860840   \n",
       "4                0.020218                      0                   0.118502   \n",
       "..                    ...                    ...                        ...   \n",
       "402              0.056383                      1                   0.696066   \n",
       "403              0.012154                      0                   0.307429   \n",
       "404              0.033024                      1                   0.521513   \n",
       "405              0.027849                      0                   0.055982   \n",
       "406              0.010212                      0                   0.347825   \n",
       "\n",
       "     promiscuity_fxp0_pxf1  promiscuity_fxp0_pxf1_hat  prom_lr_hat  \\\n",
       "0                        0                   0.537187   283.799763   \n",
       "1                        0                   0.124244    77.531148   \n",
       "2                        1                   0.052682    64.387480   \n",
       "3                        1                   0.351793   261.855666   \n",
       "4                        0                   0.107875    72.345750   \n",
       "..                     ...                        ...          ...   \n",
       "402                      0                   0.259443   197.351819   \n",
       "403                      0                   0.342624   127.561523   \n",
       "404                      1                   0.435396   192.376800   \n",
       "405                      0                   0.058745    50.163854   \n",
       "406                      0                   0.329726   143.424952   \n",
       "\n",
       "     prom_avg_hat  \n",
       "0        0.553705  \n",
       "1        0.099439  \n",
       "2        0.069898  \n",
       "3        0.427844  \n",
       "4        0.093514  \n",
       "..            ...  \n",
       "402      0.319363  \n",
       "403      0.236786  \n",
       "404      0.349923  \n",
       "405      0.049944  \n",
       "406      0.240615  \n",
       "\n",
       "[407 rows x 16 columns]"
      ]
     },
     "execution_count": 158,
     "metadata": {},
     "output_type": "execute_result"
    }
   ],
   "source": [
    "d"
   ]
  },
  {
   "cell_type": "code",
   "execution_count": 15,
   "metadata": {},
   "outputs": [
    {
     "data": {
      "text/plain": [
       "<matplotlib.collections.PathCollection at 0x2917df6d0>"
      ]
     },
     "execution_count": 15,
     "metadata": {},
     "output_type": "execute_result"
    },
    {
     "data": {
      "image/png": "[encoded data removed]",
      "text/plain": [
       "<Figure size 640x480 with 1 Axes>"
      ]
     },
     "metadata": {},
     "output_type": "display_data"
    }
   ],
   "source": [
    "plt.scatter(d[\"prom\"], d[\"prom_reg_hat\"])"
   ]
  },
  {
   "cell_type": "code",
   "execution_count": 289,
   "metadata": {},
   "outputs": [
    {
     "data": {
      "text/plain": [
       "SpearmanrResult(correlation=0.34954395547293243, pvalue=8.462176067203905e-09)"
      ]
     },
     "execution_count": 289,
     "metadata": {},
     "output_type": "execute_result"
    }
   ],
   "source": [
    "from scipy.stats import pearsonr, spearmanr\n",
    "\n",
    "spearmanr(d[d[\"prom\"] < 100][\"prom\"], d[d[\"prom\"] < 100][\"logp\"])"
   ]
  },
  {
   "cell_type": "code",
   "execution_count": 290,
   "metadata": {},
   "outputs": [
    {
     "data": {
      "text/plain": [
       "<matplotlib.collections.PathCollection at 0x297e67130>"
      ]
     },
     "execution_count": 290,
     "metadata": {},
     "output_type": "execute_result"
    },
    {
     "data": {
      "image/png": "[encoded data removed]",
      "text/plain": [
       "<Figure size 640x480 with 1 Axes>"
      ]
     },
     "metadata": {},
     "output_type": "display_data"
    }
   ],
   "source": [
    "plt.scatter(d[d[\"prom\"] < 100][\"prom\"], d[d[\"prom\"] < 100][\"logp\"])"
   ]
  },
  {
   "cell_type": "code",
   "execution_count": 291,
   "metadata": {},
   "outputs": [
    {
     "data": {
      "text/plain": [
       "<matplotlib.collections.PathCollection at 0x297dcd7e0>"
      ]
     },
     "execution_count": 291,
     "metadata": {},
     "output_type": "execute_result"
    },
    {
     "data": {
      "image/png": "[encoded data removed]",
      "text/plain": [
       "<Figure size 640x480 with 1 Axes>"
      ]
     },
     "metadata": {},
     "output_type": "display_data"
    }
   ],
   "source": [
    "plt.scatter(d[\"prom\"], d[\"logp\"])"
   ]
  },
  {
   "cell_type": "code",
   "execution_count": 77,
   "metadata": {},
   "outputs": [
    {
     "data": {
      "text/html": [
       "<div>\n",
       "<style scoped>\n",
       "    .dataframe tbody tr th:only-of-type {\n",
       "        vertical-align: middle;\n",
       "    }\n",
       "\n",
       "    .dataframe tbody tr th {\n",
       "        vertical-align: top;\n",
       "    }\n",
       "\n",
       "    .dataframe thead th {\n",
       "        text-align: right;\n",
       "    }\n",
       "</style>\n",
       "<table border=\"1\" class=\"dataframe\">\n",
       "  <thead>\n",
       "    <tr style=\"text-align: right;\">\n",
       "      <th></th>\n",
       "      <th>fid</th>\n",
       "      <th>smiles</th>\n",
       "      <th>logp</th>\n",
       "      <th>csp2</th>\n",
       "      <th>y</th>\n",
       "      <th>y_hat</th>\n",
       "      <th>prom</th>\n",
       "    </tr>\n",
       "  </thead>\n",
       "  <tbody>\n",
       "    <tr>\n",
       "      <th>0</th>\n",
       "      <td>C001</td>\n",
       "      <td>C#CCCC1(CCC(=O)N2C3CCC2CC(O)(Cc2ccccc2)C3)N=N1</td>\n",
       "      <td>3.46930</td>\n",
       "      <td>7</td>\n",
       "      <td>0</td>\n",
       "      <td>0.069736</td>\n",
       "      <td>91</td>\n",
       "    </tr>\n",
       "    <tr>\n",
       "      <th>1</th>\n",
       "      <td>C002</td>\n",
       "      <td>C#CCCC1(CCC(=O)Nc2cc(S(N)(=O)=O)ccc2-n2cc(C)cn...</td>\n",
       "      <td>2.12232</td>\n",
       "      <td>10</td>\n",
       "      <td>0</td>\n",
       "      <td>0.018708</td>\n",
       "      <td>14</td>\n",
       "    </tr>\n",
       "    <tr>\n",
       "      <th>2</th>\n",
       "      <td>C003</td>\n",
       "      <td>C#CCCC1(CCNC(=O)COc2ccc3c(C)c(C)c(=O)oc3c2C)N=N1</td>\n",
       "      <td>3.17886</td>\n",
       "      <td>10</td>\n",
       "      <td>0</td>\n",
       "      <td>0.038084</td>\n",
       "      <td>93</td>\n",
       "    </tr>\n",
       "    <tr>\n",
       "      <th>3</th>\n",
       "      <td>C004</td>\n",
       "      <td>C#CCCC1(CCC(=O)N2CCc3ccsc3C2c2cscn2)N=N1</td>\n",
       "      <td>4.03440</td>\n",
       "      <td>8</td>\n",
       "      <td>0</td>\n",
       "      <td>0.004660</td>\n",
       "      <td>288</td>\n",
       "    </tr>\n",
       "    <tr>\n",
       "      <th>4</th>\n",
       "      <td>C006</td>\n",
       "      <td>C#CCCC1(CCNC(=O)C2CCc3nnn(C4CCCC4)c3C2)N=N1</td>\n",
       "      <td>2.57990</td>\n",
       "      <td>3</td>\n",
       "      <td>0</td>\n",
       "      <td>0.020218</td>\n",
       "      <td>8</td>\n",
       "    </tr>\n",
       "    <tr>\n",
       "      <th>...</th>\n",
       "      <td>...</td>\n",
       "      <td>...</td>\n",
       "      <td>...</td>\n",
       "      <td>...</td>\n",
       "      <td>...</td>\n",
       "      <td>...</td>\n",
       "      <td>...</td>\n",
       "    </tr>\n",
       "    <tr>\n",
       "      <th>402</th>\n",
       "      <td>C429</td>\n",
       "      <td>C#CCCC1(CCC(=O)NC(C)c2ccc(-c3csc(C)n3)cc2)N=N1</td>\n",
       "      <td>4.65142</td>\n",
       "      <td>10</td>\n",
       "      <td>0</td>\n",
       "      <td>0.056383</td>\n",
       "      <td>277</td>\n",
       "    </tr>\n",
       "    <tr>\n",
       "      <th>403</th>\n",
       "      <td>C430</td>\n",
       "      <td>C#CCCC1(CCNC(=O)c2cn(-c3cccnc3)nc2C2CCOCC2)N=N1</td>\n",
       "      <td>2.85670</td>\n",
       "      <td>9</td>\n",
       "      <td>0</td>\n",
       "      <td>0.012154</td>\n",
       "      <td>88</td>\n",
       "    </tr>\n",
       "    <tr>\n",
       "      <th>404</th>\n",
       "      <td>C431</td>\n",
       "      <td>C#CCCC1(CCC(=O)N2CCCC2c2c(OC)n(C)c3ccccc23)N=N1</td>\n",
       "      <td>4.20610</td>\n",
       "      <td>9</td>\n",
       "      <td>0</td>\n",
       "      <td>0.033024</td>\n",
       "      <td>329</td>\n",
       "    </tr>\n",
       "    <tr>\n",
       "      <th>405</th>\n",
       "      <td>C432</td>\n",
       "      <td>C#CCCC1(CCNC(=O)c2cc(=O)[nH]c(C3CCOCC3)n2)N=N1</td>\n",
       "      <td>1.35930</td>\n",
       "      <td>5</td>\n",
       "      <td>0</td>\n",
       "      <td>0.027849</td>\n",
       "      <td>17</td>\n",
       "    </tr>\n",
       "    <tr>\n",
       "      <th>406</th>\n",
       "      <td>C433</td>\n",
       "      <td>C#CCCC1(CCNC(=O)c2cc(OC)c3c(c2)OCCO3)N=N1</td>\n",
       "      <td>2.16180</td>\n",
       "      <td>7</td>\n",
       "      <td>0</td>\n",
       "      <td>0.010212</td>\n",
       "      <td>154</td>\n",
       "    </tr>\n",
       "  </tbody>\n",
       "</table>\n",
       "<p>407 rows × 7 columns</p>\n",
       "</div>"
      ],
      "text/plain": [
       "      fid                                             smiles     logp  csp2  \\\n",
       "0    C001     C#CCCC1(CCC(=O)N2C3CCC2CC(O)(Cc2ccccc2)C3)N=N1  3.46930     7   \n",
       "1    C002  C#CCCC1(CCC(=O)Nc2cc(S(N)(=O)=O)ccc2-n2cc(C)cn...  2.12232    10   \n",
       "2    C003   C#CCCC1(CCNC(=O)COc2ccc3c(C)c(C)c(=O)oc3c2C)N=N1  3.17886    10   \n",
       "3    C004           C#CCCC1(CCC(=O)N2CCc3ccsc3C2c2cscn2)N=N1  4.03440     8   \n",
       "4    C006        C#CCCC1(CCNC(=O)C2CCc3nnn(C4CCCC4)c3C2)N=N1  2.57990     3   \n",
       "..    ...                                                ...      ...   ...   \n",
       "402  C429     C#CCCC1(CCC(=O)NC(C)c2ccc(-c3csc(C)n3)cc2)N=N1  4.65142    10   \n",
       "403  C430    C#CCCC1(CCNC(=O)c2cn(-c3cccnc3)nc2C2CCOCC2)N=N1  2.85670     9   \n",
       "404  C431    C#CCCC1(CCC(=O)N2CCCC2c2c(OC)n(C)c3ccccc23)N=N1  4.20610     9   \n",
       "405  C432     C#CCCC1(CCNC(=O)c2cc(=O)[nH]c(C3CCOCC3)n2)N=N1  1.35930     5   \n",
       "406  C433          C#CCCC1(CCNC(=O)c2cc(OC)c3c(c2)OCCO3)N=N1  2.16180     7   \n",
       "\n",
       "     y     y_hat  prom  \n",
       "0    0  0.069736    91  \n",
       "1    0  0.018708    14  \n",
       "2    0  0.038084    93  \n",
       "3    0  0.004660   288  \n",
       "4    0  0.020218     8  \n",
       "..  ..       ...   ...  \n",
       "402  0  0.056383   277  \n",
       "403  0  0.012154    88  \n",
       "404  0  0.033024   329  \n",
       "405  0  0.027849    17  \n",
       "406  0  0.010212   154  \n",
       "\n",
       "[407 rows x 7 columns]"
      ]
     },
     "execution_count": 77,
     "metadata": {},
     "output_type": "execute_result"
    }
   ],
   "source": [
    "d"
   ]
  },
  {
   "cell_type": "code",
   "execution_count": 74,
   "metadata": {},
   "outputs": [
    {
     "data": {
      "text/plain": [
       "0.8578811369509044"
      ]
     },
     "execution_count": 74,
     "metadata": {},
     "output_type": "execute_result"
    }
   ],
   "source": [
    "fpr, tpr, _ = roc_curve(d[\"y\"], d[\"logp\"])\n",
    "auc(fpr, tpr)"
   ]
  },
  {
   "cell_type": "code",
   "execution_count": 75,
   "metadata": {},
   "outputs": [
    {
     "data": {
      "text/plain": [
       "<matplotlib.collections.PathCollection at 0x17eda90c0>"
      ]
     },
     "execution_count": 75,
     "metadata": {},
     "output_type": "execute_result"
    },
    {
     "data": {
      "image/png": "[encoded data removed]",
      "text/plain": [
       "<Figure size 640x480 with 1 Axes>"
      ]
     },
     "metadata": {},
     "output_type": "display_data"
    }
   ],
   "source": [
    "import numpy as np\n",
    "\n",
    "def calculate_proportion(df, window_size):\n",
    "    df_sorted = df.sort_values(by='logp')\n",
    "    df_sorted['prop'] = df_sorted['y'].rolling(window=window_size, min_periods=1).mean()\n",
    "    return df_sorted\n",
    "\n",
    "dp = calculate_proportion(d, 50)\n",
    "plt.scatter(dp[\"logp\"], dp[\"prop\"])"
   ]
  },
  {
   "cell_type": "code",
   "execution_count": 20,
   "metadata": {},
   "outputs": [
    {
     "data": {
      "text/plain": [
       "[<matplotlib.lines.Line2D at 0x17d479ab0>]"
      ]
     },
     "execution_count": 20,
     "metadata": {},
     "output_type": "execute_result"
    },
    {
     "data": {
      "image/png": "[encoded data removed]",
      "text/plain": [
       "<Figure size 640x480 with 1 Axes>"
      ]
     },
     "metadata": {},
     "output_type": "display_data"
    }
   ],
   "source": [
    "plt.plot(_, fpr)"
   ]
  },
  {
   "cell_type": "code",
   "execution_count": 19,
   "metadata": {},
   "outputs": [
    {
     "data": {
      "text/plain": [
       "<matplotlib.collections.PathCollection at 0x16eac8670>"
      ]
     },
     "execution_count": 19,
     "metadata": {},
     "output_type": "execute_result"
    },
    {
     "data": {
      "image/png": "[encoded data removed]",
      "text/plain": [
       "<Figure size 640x480 with 1 Axes>"
      ]
     },
     "metadata": {},
     "output_type": "display_data"
    }
   ],
   "source": [
    "plt.scatter(d[\"logp\"], d[\"y_hat\"])"
   ]
  },
  {
   "cell_type": "code",
   "execution_count": null,
   "metadata": {},
   "outputs": [],
   "source": []
  }
 ],
 "metadata": {
  "kernelspec": {
   "display_name": "bdfigs",
   "language": "python",
   "name": "python3"
  },
  "language_info": {
   "codemirror_mode": {
    "name": "ipython",
    "version": 3
   },
   "file_extension": ".py",
   "mimetype": "text/x-python",
   "name": "python",
   "nbconvert_exporter": "python",
   "pygments_lexer": "ipython3",
   "version": "3.10.10"
  }
 },
 "nbformat": 4,
 "nbformat_minor": 2
}
